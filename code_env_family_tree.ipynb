{
 "cells": [
  {
   "cell_type": "code",
   "execution_count": 29,
   "id": "0dff9d8b",
   "metadata": {},
   "outputs": [],
   "source": [
    "# Define the environments and packages\n",
    "env_packages = {\n",
    "    'e1': ['p1', 'p2'],\n",
    "    'e2': ['p1'],\n",
    "    'e3': ['p3', 'p4'],\n",
    "    'e4': ['p4'],\n",
    "    'e5': ['p5']\n",
    "}\n"
   ]
  },
  {
   "cell_type": "code",
   "execution_count": 30,
   "id": "7062e4ff",
   "metadata": {},
   "outputs": [],
   "source": [
    "from collections import defaultdict\n",
    "import itertools\n",
    "\n",
    "# Function to calculate the similarity between two sets of packages\n",
    "def package_similarity(packages1, packages2):\n",
    "    set1 = set(packages1)\n",
    "    set2 = set(packages2)\n",
    "    return len(set1 & set2) / len(set1 | set2)\n",
    "\n",
    "# Function to create the union of packages for given environments\n",
    "def union_packages(env_list, all_packages):\n",
    "    union_set = set()\n",
    "    for env in env_list:\n",
    "        union_set.update(all_packages[env])\n",
    "    return list(union_set)\n",
    "\n",
    "# Function to build the tree iteratively\n",
    "def build_tree(env_packages):\n",
    "    nodes = {env: {'packages': env_packages[env], 'children': {}} for env in env_packages}\n",
    "    all_packages = env_packages.copy()\n",
    "    \n",
    "    while len(nodes) > 1:\n",
    "        # Find the pair of environments with the highest similarity\n",
    "        most_similar_pair = None\n",
    "        highest_similarity = -1\n",
    "        for (env1, node1), (env2, node2) in itertools.combinations(nodes.items(), 2):\n",
    "            similarity = package_similarity(node1['packages'], node2['packages'])\n",
    "            if similarity > highest_similarity:\n",
    "                highest_similarity = similarity\n",
    "                most_similar_pair = (env1, env2)\n",
    "        \n",
    "        env1, env2 = most_similar_pair\n",
    "        new_env = f'{env1}_{env2}'\n",
    "        new_packages = union_packages([env1, env2], all_packages)\n",
    "        \n",
    "        # Create the new merged node\n",
    "        nodes[new_env] = {\n",
    "            'packages': new_packages,\n",
    "            'children': {\n",
    "                env1: nodes.pop(env1),\n",
    "                env2: nodes.pop(env2)\n",
    "            }\n",
    "        }\n",
    "        # Update the all_packages dictionary with the new merged environment\n",
    "        all_packages[new_env] = new_packages\n",
    "    \n",
    "    # The last remaining node is the root\n",
    "    return nodes.popitem()[1]\n",
    "\n",
    "# Build the tree starting from the root\n",
    "tree = build_tree(env_packages)\n"
   ]
  },
  {
   "cell_type": "code",
   "execution_count": 32,
   "id": "26485a79",
   "metadata": {},
   "outputs": [
    {
     "name": "stdout",
     "output_type": "stream",
     "text": [
      "Packages (5): ['p1', 'p3', 'p4', 'p5', 'p2']\n",
      "Child: e3_e4\n",
      "  Packages (2): ['p3', 'p4']\n",
      "  Child: e3\n",
      "    Packages (2): ['p3', 'p4']\n",
      "  Child: e4\n",
      "    Packages (1): ['p4']\n",
      "Child: e5_e1_e2\n",
      "  Packages (3): ['p1', 'p2', 'p5']\n",
      "  Child: e5\n",
      "    Packages (1): ['p5']\n",
      "  Child: e1_e2\n",
      "    Packages (2): ['p1', 'p2']\n",
      "    Child: e1\n",
      "      Packages (2): ['p1', 'p2']\n",
      "    Child: e2\n",
      "      Packages (1): ['p1']\n"
     ]
    }
   ],
   "source": [
    "# Function to print the tree with package counts in a readable format\n",
    "def print_tree(node, indent=0):\n",
    "    indent_str = '  ' * indent\n",
    "    package_count = len(node['packages'])  # Calculate the number of packages\n",
    "    \n",
    "    print(f\"{indent_str}Packages ({package_count}): {node['packages']}\")\n",
    "    \n",
    "    if node['children']:\n",
    "        for child_key, child in node['children'].items():\n",
    "            print(f\"{indent_str}Child: {child_key}\")\n",
    "            print_tree(child, indent + 1)\n",
    "\n",
    "# Print the tree\n",
    "print_tree(tree)\n",
    "\n"
   ]
  },
  {
   "cell_type": "code",
   "execution_count": null,
   "id": "b0e5ec80",
   "metadata": {},
   "outputs": [],
   "source": []
  }
 ],
 "metadata": {
  "kernelspec": {
   "display_name": "Python 3 (ipykernel)",
   "language": "python",
   "name": "python3"
  },
  "language_info": {
   "codemirror_mode": {
    "name": "ipython",
    "version": 3
   },
   "file_extension": ".py",
   "mimetype": "text/x-python",
   "name": "python",
   "nbconvert_exporter": "python",
   "pygments_lexer": "ipython3",
   "version": "3.11.5"
  }
 },
 "nbformat": 4,
 "nbformat_minor": 5
}
